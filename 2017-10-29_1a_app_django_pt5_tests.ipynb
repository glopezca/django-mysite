{
 "cells": [
  {
   "cell_type": "markdown",
   "metadata": {},
   "source": [
    "# Escribiendo tu primera aplicación en Django, parte 5 - Tests\n",
    "## Tutorial\n",
    "### CFGS DAW2. Módulo: DWES. Profesor: Germán López Castro. Sesión: 08/10/2017"
   ]
  },
  {
   "cell_type": "code",
   "execution_count": 1,
   "metadata": {},
   "outputs": [
    {
     "data": {
      "text/plain": [
       "True"
      ]
     },
     "execution_count": 1,
     "metadata": {},
     "output_type": "execute_result"
    }
   ],
   "source": [
    "from datetime import datetime, timedelta\n",
    "from django.utils import timezone\n",
    "from polls.models import Question\n",
    "# create a Question instance with pub_date 30 days in the future\n",
    "future_question = Question(pub_date=timezone.now() + timedelta(days=30))\n",
    "# was it published recently?\n",
    "future_question.was_published_recently()"
   ]
  },
  {
   "cell_type": "code",
   "execution_count": null,
   "metadata": {
    "collapsed": true
   },
   "outputs": [],
   "source": [
    "#polls/tests.py\n",
    "from django.test import TestCase\n",
    "\n",
    "# Create your tests here.\n",
    "\n",
    "from datetime import datetime, timedelta\n",
    "from django.utils import timezone\n",
    "from django.test import TestCase\n",
    "\n",
    "from .models import Question\n",
    "\n",
    "class QuestionModelTests(TestCase):\n",
    "\n",
    "    def test_was_published_recently_with_future_question(self):\n",
    "        \"\"\"\n",
    "        was_published_recently() returns False for questions whose pub_date\n",
    "        is in the future.\n",
    "        \"\"\"\n",
    "        time = timezone.now() + timedelta(days=30)\n",
    "        future_question = Question(pub_date=time)\n",
    "        self.assertIs(future_question.was_published_recently(), False)"
   ]
  },
  {
   "cell_type": "code",
   "execution_count": null,
   "metadata": {
    "collapsed": true
   },
   "outputs": [],
   "source": [
    "./manage.py test polls\n",
    "Creating test database for alias 'default'...\n",
    "System check identified no issues (0 silenced).\n",
    "F\n",
    "======================================================================\n",
    "FAIL: test_was_published_recently_with_future_question (polls.tests.QuestionModelTests)\n",
    "----------------------------------------------------------------------\n",
    "Traceback (most recent call last):\n",
    "  File \"/Users/santacatalina/Documents/Python/Django/mysite/polls/tests.py\", line 20, in test_was_published_recently_with_future_question\n",
    "    self.assertIs(future_question.was_published_recently(), False)\n",
    "AssertionError: True is not False\n",
    "\n",
    "----------------------------------------------------------------------\n",
    "Ran 1 test in 0.002s\n",
    "\n",
    "FAILED (failures=1)\n",
    "Destroying test database for alias 'default'..."
   ]
  },
  {
   "cell_type": "code",
   "execution_count": null,
   "metadata": {
    "collapsed": true
   },
   "outputs": [],
   "source": [
    "#polls/models.py\n",
    "from django.db import models\n",
    "\n",
    "# Create your models here.\n",
    "\n",
    "from datetime import datetime, timedelta\n",
    "from django.utils import timezone\n",
    "\n",
    "class Question(models.Model):\n",
    "    question_text = models.CharField(max_length=200)\n",
    "    pub_date = models.DateTimeField('date published')\n",
    "    def __str__(self):\n",
    "        return self.question_text\n",
    "    def was_published_recently(self):\n",
    "        now = timezone.now()\n",
    "        return now >= self.pub_date >= now - timedelta(days=1)\n",
    "\n",
    "class Choice(models.Model):\n",
    "    question = models.ForeignKey(Question, on_delete=models.CASCADE)\n",
    "    choice_text = models.CharField(max_length=200)\n",
    "    votes = models.IntegerField(default=0)\n",
    "    def __str__(self):\n",
    "        return self.choice_text"
   ]
  },
  {
   "cell_type": "code",
   "execution_count": null,
   "metadata": {
    "collapsed": true
   },
   "outputs": [],
   "source": [
    "./manage.py test polls\n",
    "Creating test database for alias 'default'...\n",
    "System check identified no issues (0 silenced).\n",
    ".\n",
    "----------------------------------------------------------------------\n",
    "Ran 1 test in 0.002s\n",
    "\n",
    "OK\n",
    "Destroying test database for alias 'default'..."
   ]
  },
  {
   "cell_type": "code",
   "execution_count": null,
   "metadata": {
    "collapsed": true
   },
   "outputs": [],
   "source": [
    "from django.test import TestCase\n",
    "\n",
    "# Create your tests here.\n",
    "\n",
    "from datetime import datetime, timedelta\n",
    "from django.utils import timezone\n",
    "from django.test import TestCase\n",
    "\n",
    "from .models import Question\n",
    "\n",
    "class QuestionModelTests(TestCase):\n",
    "\n",
    "    def test_was_published_recently_with_future_question(self):\n",
    "        \"\"\"\n",
    "        was_published_recently() returns False for questions whose pub_date\n",
    "        is in the future.\n",
    "        \"\"\"\n",
    "        time = timezone.now() + timedelta(days=30)\n",
    "        future_question = Question(pub_date=time)\n",
    "        self.assertIs(future_question.was_published_recently(), False)\n",
    "        \n",
    "    def test_was_published_recently_with_old_question(self):\n",
    "        \"\"\"\n",
    "        was_published_recently() returns False for questions whose pub_date\n",
    "        is older than 1 day.\n",
    "        \"\"\"\n",
    "        time = timezone.now() - timedelta(days=1, seconds=1)\n",
    "        old_question = Question(pub_date=time)\n",
    "        self.assertIs(old_question.was_published_recently(), False)\n",
    "\n",
    "    def test_was_published_recently_with_recent_question(self):\n",
    "        \"\"\"\n",
    "        was_published_recently() returns True for questions whose pub_date\n",
    "        is within the last day.\n",
    "        \"\"\"\n",
    "        time = timezone.now() - timedelta(hours=23, minutes=59, seconds=59)\n",
    "        recent_question = Question(pub_date=time)\n",
    "        self.assertIs(recent_question.was_published_recently(), True)"
   ]
  },
  {
   "cell_type": "code",
   "execution_count": null,
   "metadata": {
    "collapsed": true
   },
   "outputs": [],
   "source": [
    "./manage.py test polls\n",
    "Creating test database for alias 'default'...\n",
    "System check identified no issues (0 silenced).\n",
    "...\n",
    "----------------------------------------------------------------------\n",
    "Ran 3 tests in 0.003s\n",
    "\n",
    "OK\n",
    "Destroying test database for alias 'default'..."
   ]
  },
  {
   "cell_type": "code",
   "execution_count": 2,
   "metadata": {
    "collapsed": true
   },
   "outputs": [],
   "source": [
    "from django.test.utils import setup_test_environment\n",
    "setup_test_environment()"
   ]
  },
  {
   "cell_type": "code",
   "execution_count": 3,
   "metadata": {
    "collapsed": true
   },
   "outputs": [],
   "source": [
    "from django.test import Client\n",
    "# create an instance of the client for our use\n",
    "client = Client()"
   ]
  },
  {
   "cell_type": "code",
   "execution_count": 4,
   "metadata": {
    "collapsed": true
   },
   "outputs": [],
   "source": [
    "response = client.get('/')"
   ]
  },
  {
   "cell_type": "code",
   "execution_count": 5,
   "metadata": {},
   "outputs": [
    {
     "data": {
      "text/plain": [
       "302"
      ]
     },
     "execution_count": 5,
     "metadata": {},
     "output_type": "execute_result"
    }
   ],
   "source": [
    "response.status_code"
   ]
  },
  {
   "cell_type": "code",
   "execution_count": 6,
   "metadata": {
    "collapsed": true
   },
   "outputs": [],
   "source": [
    "from django.urls import reverse\n",
    "response = client.get(reverse('polls:index'))"
   ]
  },
  {
   "cell_type": "code",
   "execution_count": 7,
   "metadata": {},
   "outputs": [
    {
     "data": {
      "text/plain": [
       "200"
      ]
     },
     "execution_count": 7,
     "metadata": {},
     "output_type": "execute_result"
    }
   ],
   "source": [
    "response.status_code"
   ]
  },
  {
   "cell_type": "code",
   "execution_count": 8,
   "metadata": {},
   "outputs": [
    {
     "data": {
      "text/plain": [
       "b'\\n\\n<link rel=\"stylesheet\" type=\"text/css\" href=\"/static/polls/style.css\" />\\n\\n\\n    <ul>\\n    \\n        <li><a href=\"/polls/1/\">\\xc2\\xbfHay algo nuevo?</a></li>\\n    \\n    </ul>\\n'"
      ]
     },
     "execution_count": 8,
     "metadata": {},
     "output_type": "execute_result"
    }
   ],
   "source": [
    "response.content"
   ]
  },
  {
   "cell_type": "code",
   "execution_count": 9,
   "metadata": {},
   "outputs": [
    {
     "data": {
      "text/plain": [
       "<QuerySet [<Question: ¿Hay algo nuevo?>]>"
      ]
     },
     "execution_count": 9,
     "metadata": {},
     "output_type": "execute_result"
    }
   ],
   "source": [
    "response.context['latest_question_list']"
   ]
  },
  {
   "cell_type": "code",
   "execution_count": null,
   "metadata": {
    "collapsed": true
   },
   "outputs": [],
   "source": [
    "#polls/views.py\n",
    "from django.shortcuts import render\n",
    "from django.http import HttpResponse, HttpResponseRedirect\n",
    "from django.utils import timezone\n",
    "from django.utils.html import escape\n",
    "#from django.template import loader\n",
    "from django.shortcuts import render, get_object_or_404\n",
    "from django.urls import reverse\n",
    "from django.views import generic\n",
    "\n",
    "from .models import Question\n",
    "\n",
    "# Create your views here.\n",
    "\n",
    "def index(request):\n",
    "    #return HttpResponse(escape(\"Hola, mundo. Estás en el polls index.\"))\n",
    "    latest_question_list = Question.objects.order_by('-pub_date')[:5]\n",
    "    #output = ', '.join([q.question_text for q in latest_question_list])\n",
    "    #return HttpResponse(output)\n",
    "    context = {'latest_question_list': latest_question_list}\n",
    "    ##template = loader.get_template('polls/index.html')\n",
    "    ##return HttpResponse(template.render(context, request))\n",
    "    return render(request, 'polls/index.html', context)\n",
    "\n",
    "def detail(request, question_id):\n",
    "    #return HttpResponse(escape(\"Estás consultando la pregunta %s.\" % question_id))\n",
    "    ##try:\n",
    "    ##    question = Question.objects.get(pk=question_id)\n",
    "    question = get_object_or_404(Question, pk=question_id)\n",
    "    ##except Question.DoesNotExist:\n",
    "    ##    raise Http404(\"La pregunta no existe\")\n",
    "    return render(request, 'polls/detail.html', {'question': question})    \n",
    "\n",
    "def results(request, question_id):\n",
    "    #response = \"Estás consultando la respuesta a la pregunta %s.\"\n",
    "    #return HttpResponse(escape(response % question_id))\n",
    "    question = get_object_or_404(Question, pk=question_id)\n",
    "    return render(request, 'polls/results.html', {'question': question})\n",
    "\n",
    "def vote(request, question_id):\n",
    "    question = get_object_or_404(Question, pk=question_id)\n",
    "    try:\n",
    "        selected_choice = question.choice_set.get(pk=request.POST['choice'])\n",
    "    except (KeyError, Choice.DoesNotExist):\n",
    "        # Redisplay the question voting form.\n",
    "        return render(request, 'polls/detail.html', {\n",
    "            'question': question,\n",
    "            'error_message': \"No has seleccionado ninguna opción.\",\n",
    "        })\n",
    "    else:\n",
    "        selected_choice.votes += 1\n",
    "        selected_choice.save()\n",
    "        # Always return an HttpResponseRedirect after successfully dealing\n",
    "        # with POST data. This prevents data from being posted twice if a\n",
    "        # user hits the Back button.\n",
    "        return HttpResponseRedirect(reverse('polls:results', args=(question.id,)))\n",
    "    \n",
    "class IndexView(generic.ListView):\n",
    "    template_name = 'polls/index.html'\n",
    "    context_object_name = 'latest_question_list'\n",
    "\n",
    "    def get_queryset(self):\n",
    "        \"\"\"Return the last five published questions.\"\"\"\n",
    "        return Question.objects.filter(\n",
    "            pub_date__lte=timezone.now()\n",
    "        ).order_by('-pub_date')[:5]\n",
    "\n",
    "class DetailView(generic.DetailView):\n",
    "    model = Question\n",
    "    template_name = 'polls/detail.html'\n",
    "    \n",
    "    def get_queryset(self):\n",
    "        \"\"\"\n",
    "        Excludes any questions that aren't published yet.\n",
    "        \"\"\"\n",
    "        return Question.objects.filter(pub_date__lte=timezone.now())\n",
    "\n",
    "class ResultsView(generic.DetailView):\n",
    "    model = Question\n",
    "    template_name = 'polls/results.html'"
   ]
  },
  {
   "cell_type": "code",
   "execution_count": null,
   "metadata": {
    "collapsed": true
   },
   "outputs": [],
   "source": [
    "#polls/tests.py\n",
    "from django.test import TestCase\n",
    "\n",
    "# Create your tests here.\n",
    "\n",
    "from datetime import datetime, timedelta\n",
    "from django.utils import timezone\n",
    "from django.test import TestCase\n",
    "from django.urls import reverse\n",
    "\n",
    "from .models import Question\n",
    "\n",
    "def create_question(question_text, days):\n",
    "    \"\"\"\n",
    "    Create a question with the given `question_text` and published the\n",
    "    given number of `days` offset to now (negative for questions published\n",
    "    in the past, positive for questions that have yet to be published).\n",
    "    \"\"\"\n",
    "    time = timezone.now() + timedelta(days=days)\n",
    "    return Question.objects.create(question_text=question_text, pub_date=time)\n",
    "\n",
    "class QuestionIndexViewTests(TestCase):\n",
    "    \n",
    "    def test_no_questions(self):\n",
    "        \"\"\"\n",
    "        If no questions exist, an appropriate message is displayed.\n",
    "        \"\"\"\n",
    "        response = self.client.get(reverse('polls:index'))\n",
    "        self.assertEqual(response.status_code, 200)\n",
    "        self.assertContains(response, \"No polls are available.\")\n",
    "        self.assertQuerysetEqual(response.context['latest_question_list'], [])\n",
    "\n",
    "    def test_past_question(self):\n",
    "        \"\"\"\n",
    "        Questions with a pub_date in the past are displayed on the\n",
    "        index page.\n",
    "        \"\"\"\n",
    "        create_question(question_text=\"Past question.\", days=-30)\n",
    "        response = self.client.get(reverse('polls:index'))\n",
    "        self.assertQuerysetEqual(\n",
    "            response.context['latest_question_list'],\n",
    "            ['<Question: Past question.>']\n",
    "        )\n",
    "\n",
    "    def test_future_question(self):\n",
    "        \"\"\"\n",
    "        Questions with a pub_date in the future aren't displayed on\n",
    "        the index page.\n",
    "        \"\"\"\n",
    "        create_question(question_text=\"Future question.\", days=30)\n",
    "        response = self.client.get(reverse('polls:index'))\n",
    "        self.assertContains(response, \"No polls are available.\")\n",
    "        self.assertQuerysetEqual(response.context['latest_question_list'], [])\n",
    "\n",
    "    def test_future_question_and_past_question(self):\n",
    "        \"\"\"\n",
    "        Even if both past and future questions exist, only past questions\n",
    "        are displayed.\n",
    "        \"\"\"\n",
    "        create_question(question_text=\"Past question.\", days=-30)\n",
    "        create_question(question_text=\"Future question.\", days=30)\n",
    "        response = self.client.get(reverse('polls:index'))\n",
    "        self.assertQuerysetEqual(\n",
    "            response.context['latest_question_list'],\n",
    "            ['<Question: Past question.>']\n",
    "        )\n",
    "\n",
    "    def test_two_past_questions(self):\n",
    "        \"\"\"\n",
    "        The questions index page may display multiple questions.\n",
    "        \"\"\"\n",
    "        create_question(question_text=\"Past question 1.\", days=-30)\n",
    "        create_question(question_text=\"Past question 2.\", days=-5)\n",
    "        response = self.client.get(reverse('polls:index'))\n",
    "        self.assertQuerysetEqual(\n",
    "            response.context['latest_question_list'],\n",
    "            ['<Question: Past question 2.>', '<Question: Past question 1.>']\n",
    "        )\n",
    "\n",
    "class QuestionDetailViewTests(TestCase):\n",
    "    def test_future_question(self):\n",
    "        \"\"\"\n",
    "        The detail view of a question with a pub_date in the future\n",
    "        returns a 404 not found.\n",
    "        \"\"\"\n",
    "        future_question = create_question(question_text='Future question.', days=5)\n",
    "        url = reverse('polls:detail', args=(future_question.id,))\n",
    "        response = self.client.get(url)\n",
    "        self.assertEqual(response.status_code, 404)\n",
    "\n",
    "    def test_past_question(self):\n",
    "        \"\"\"\n",
    "        The detail view of a question with a pub_date in the past\n",
    "        displays the question's text.\n",
    "        \"\"\"\n",
    "        past_question = create_question(question_text='Past Question.', days=-5)\n",
    "        url = reverse('polls:detail', args=(past_question.id,))\n",
    "        response = self.client.get(url)\n",
    "        self.assertContains(response, past_question.question_text)\n",
    "\n",
    "class QuestionModelTests(TestCase):\n",
    "\n",
    "    def test_was_published_recently_with_future_question(self):\n",
    "        \"\"\"\n",
    "        was_published_recently() returns False for questions whose pub_date\n",
    "        is in the future.\n",
    "        \"\"\"\n",
    "        time = timezone.now() + timedelta(days=30)\n",
    "        future_question = Question(pub_date=time)\n",
    "        self.assertIs(future_question.was_published_recently(), False)\n",
    "        \n",
    "    def test_was_published_recently_with_old_question(self):\n",
    "        \"\"\"\n",
    "        was_published_recently() returns False for questions whose pub_date\n",
    "        is older than 1 day.\n",
    "        \"\"\"\n",
    "        time = timezone.now() - timedelta(days=1, seconds=1)\n",
    "        old_question = Question(pub_date=time)\n",
    "        self.assertIs(old_question.was_published_recently(), False)\n",
    "\n",
    "    def test_was_published_recently_with_recent_question(self):\n",
    "        \"\"\"\n",
    "        was_published_recently() returns True for questions whose pub_date\n",
    "        is within the last day.\n",
    "        \"\"\"\n",
    "        time = timezone.now() - timedelta(hours=23, minutes=59, seconds=59)\n",
    "        recent_question = Question(pub_date=time)\n",
    "        self.assertIs(recent_question.was_published_recently(), True)"
   ]
  }
 ],
 "metadata": {
  "kernelspec": {
   "display_name": "Django Shell-Plus",
   "language": "python",
   "name": "django_extensions"
  },
  "language_info": {
   "codemirror_mode": {
    "name": "ipython",
    "version": 3
   },
   "file_extension": ".py",
   "mimetype": "text/x-python",
   "name": "python",
   "nbconvert_exporter": "python",
   "pygments_lexer": "ipython3",
   "version": "3.6.1"
  }
 },
 "nbformat": 4,
 "nbformat_minor": 2
}
