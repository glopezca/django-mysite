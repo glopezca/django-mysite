{
 "cells": [
  {
   "cell_type": "code",
   "execution_count": 4,
   "metadata": {
    "collapsed": true
   },
   "outputs": [],
   "source": [
    "from polls.models import Question, Choice"
   ]
  },
  {
   "cell_type": "code",
   "execution_count": 20,
   "metadata": {},
   "outputs": [
    {
     "name": "stdout",
     "output_type": "stream",
     "text": [
      "10. ¿Te gusta el rock? (2017-11-30 21:04:46.713213+00:00)\n",
      "\t4. Y una mierda\n",
      "\t5. Me mola\n",
      "\t6. Es mi vida\n",
      "\n",
      "12. ¿Corres? (2017-11-30 21:14:41.510184+00:00)\n",
      "\t10. Nai\n",
      "\t11. Patrás\n",
      "\t12. Mogollón\n",
      "\n",
      "13. ¿En qué programas? (2017-11-30 21:18:35.155719+00:00)\n",
      "\t13. Python\n",
      "\t14. Java\n",
      "\t15. C\n",
      "\n",
      "14. ¿Cómo viajas? (2017-11-30 21:24:19.481763+00:00)\n",
      "\t16. En burro\n",
      "\t17. En pez\n",
      "\t18. En dragón\n",
      "\n",
      "15. ¿Qué bebes? (2017-11-30 21:32:48.021171+00:00)\n",
      "\t19. Vino\n",
      "\t20. Birra\n",
      "\t21. Sidrina\n",
      "\n",
      "16. ¿Estudias o trabajas? (2017-11-30 22:08:30.677619+00:00)\n",
      "\t22. Curro\n",
      "\t23. Empollo\n",
      "\t24. Ni-ni\n",
      "\n",
      "17. ¿Con qué sueñan los androides? (2017-11-30 22:31:47.045406+00:00)\n",
      "\t25. No sueñan\n",
      "\t26. Con ovejas eléctricas\n",
      "\t27. Con androidas\n",
      "\n",
      "18. ¿Oyes bien? (2017-11-30 22:36:51.754491+00:00)\n",
      "\t28. De maravilla\n",
      "\t29. A ratos\n",
      "\t30. Estoy sordo/a como una tapia\n",
      "\n",
      "19. ¿Te gusta la noche? (2017-11-30 22:46:47.289253+00:00)\n",
      "\t31. Me asustan las mañanas\n",
      "\t32. Me encuentro con mi hada\n",
      "\t33. Tengo miedo a la oscuridad\n",
      "\n",
      "20. ¿A qué distancia vives? (2017-11-30 22:47:35.394231+00:00)\n",
      "\t34. Aquí mismo\n",
      "\t35. En todo el medio\n",
      "\t36. En el quinto pino\n",
      "\n",
      "21. ¿Qué deporte practicas? (2017-11-30 23:00:34.787516+00:00)\n",
      "\t37. Sillón-ball\n",
      "\t38. Levantamiento de codo\n",
      "\t39. Vivir peligrosamente\n",
      "\n",
      "22. ¿Cuántos años tienes? (2017-11-30 23:09:35.912259+00:00)\n",
      "\t40. Pocos\n",
      "\t41. Muchos\n",
      "\t42. Todos\n",
      "\n",
      "23. Tu comida favorita (2017-11-30 23:10:50.891427+00:00)\n",
      "\t43. La que se mastica\n",
      "\t44. La que se bebe\n",
      "\t45. La que está caliente\n",
      "\n"
     ]
    }
   ],
   "source": [
    "for q in Question.objects.all():\n",
    "    print(\"%d. %s (%s)\" % (q.id, q.question_text, q.pub_date))\n",
    "    for c in q.choice_set.all():\n",
    "        print(\"\\t%d. %s\" % (c.id, c.choice_text))\n",
    "    print()"
   ]
  },
  {
   "cell_type": "code",
   "execution_count": null,
   "metadata": {
    "collapsed": true
   },
   "outputs": [],
   "source": []
  }
 ],
 "metadata": {
  "kernelspec": {
   "display_name": "Django Shell-Plus",
   "language": "python",
   "name": "django_extensions"
  },
  "language_info": {
   "codemirror_mode": {
    "name": "ipython",
    "version": 3
   },
   "file_extension": ".py",
   "mimetype": "text/x-python",
   "name": "python",
   "nbconvert_exporter": "python",
   "pygments_lexer": "ipython3",
   "version": "3.6.1"
  }
 },
 "nbformat": 4,
 "nbformat_minor": 2
}
